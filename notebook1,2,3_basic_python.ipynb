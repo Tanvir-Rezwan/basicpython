{
  "nbformat": 4,
  "nbformat_minor": 0,
  "metadata": {
    "colab": {
      "name": "notebook1,2,3 basic python.ipynb",
      "provenance": [],
      "collapsed_sections": []
    },
    "kernelspec": {
      "name": "python3",
      "display_name": "Python 3"
    }
  },
  "cells": [
    {
      "cell_type": "code",
      "metadata": {
        "colab": {
          "base_uri": "https://localhost:8080/"
        },
        "id": "ON-N0lkS7Aiw",
        "outputId": "9921ed5b-8689-4c7f-cc5e-4c3e8575534c"
      },
      "source": [
        "multiplication = 7*4\r\n",
        "print(multiplication)"
      ],
      "execution_count": 3,
      "outputs": [
        {
          "output_type": "stream",
          "text": [
            "28\n"
          ],
          "name": "stdout"
        }
      ]
    },
    {
      "cell_type": "code",
      "metadata": {
        "colab": {
          "base_uri": "https://localhost:8080/"
        },
        "id": "F7Uc5KkO7fKF",
        "outputId": "f6184abf-1fa3-43f8-a275-5aecf1a7bf62"
      },
      "source": [
        "add = 10+15\r\n",
        "print(add)"
      ],
      "execution_count": 4,
      "outputs": [
        {
          "output_type": "stream",
          "text": [
            "25\n"
          ],
          "name": "stdout"
        }
      ]
    },
    {
      "cell_type": "code",
      "metadata": {
        "colab": {
          "base_uri": "https://localhost:8080/"
        },
        "id": "H1a8PZ1x75nY",
        "outputId": "fe4a8d56-8bb0-4a57-9125-279ae42b2d0d"
      },
      "source": [
        "sub = 40-8 \r\n",
        "print(sub)"
      ],
      "execution_count": 6,
      "outputs": [
        {
          "output_type": "stream",
          "text": [
            "32\n"
          ],
          "name": "stdout"
        }
      ]
    },
    {
      "cell_type": "code",
      "metadata": {
        "colab": {
          "base_uri": "https://localhost:8080/"
        },
        "id": "-t1hD4QN8VHT",
        "outputId": "cd8ea991-dbf6-49c7-aca7-142fa9b26d8a"
      },
      "source": [
        "x=7 \r\n",
        "y=3\r\n",
        "print(x+y)"
      ],
      "execution_count": 9,
      "outputs": [
        {
          "output_type": "stream",
          "text": [
            "10\n"
          ],
          "name": "stdout"
        }
      ]
    },
    {
      "cell_type": "code",
      "metadata": {
        "colab": {
          "base_uri": "https://localhost:8080/"
        },
        "id": "ymQz-8F38gF8",
        "outputId": "6664b37a-c853-4bad-d708-57f91a7cb6df"
      },
      "source": [
        "total = x+y \r\n",
        "print(total)"
      ],
      "execution_count": 10,
      "outputs": [
        {
          "output_type": "stream",
          "text": [
            "10\n"
          ],
          "name": "stdout"
        }
      ]
    },
    {
      "cell_type": "code",
      "metadata": {
        "colab": {
          "base_uri": "https://localhost:8080/"
        },
        "id": "TcgQrdP-8mzh",
        "outputId": "bf4f2181-07e4-4769-ae5b-0137d4708c12"
      },
      "source": [
        "name = \"Adam\" \r\n",
        "name2 = \"Eva\"\r\n",
        "print(name , name2)\r\n"
      ],
      "execution_count": 12,
      "outputs": [
        {
          "output_type": "stream",
          "text": [
            "Adam Eva\n"
          ],
          "name": "stdout"
        }
      ]
    },
    {
      "cell_type": "code",
      "metadata": {
        "colab": {
          "base_uri": "https://localhost:8080/"
        },
        "id": "_qmIMzTq84FI",
        "outputId": "e50ce307-0e7e-4860-ebce-c7905ab8cebd"
      },
      "source": [
        "x =10\r\n",
        "type(x)"
      ],
      "execution_count": 13,
      "outputs": [
        {
          "output_type": "execute_result",
          "data": {
            "text/plain": [
              "int"
            ]
          },
          "metadata": {
            "tags": []
          },
          "execution_count": 13
        }
      ]
    },
    {
      "cell_type": "code",
      "metadata": {
        "colab": {
          "base_uri": "https://localhost:8080/"
        },
        "id": "fjBsR65h9DsW",
        "outputId": "37282e62-023f-4891-bd30-056308b14cbf"
      },
      "source": [
        "type(10.5)"
      ],
      "execution_count": 14,
      "outputs": [
        {
          "output_type": "execute_result",
          "data": {
            "text/plain": [
              "float"
            ]
          },
          "metadata": {
            "tags": []
          },
          "execution_count": 14
        }
      ]
    },
    {
      "cell_type": "code",
      "metadata": {
        "colab": {
          "base_uri": "https://localhost:8080/"
        },
        "id": "iQUVNE3B9Iwc",
        "outputId": "00143e1c-b982-4b7b-9383-f90dda923a21"
      },
      "source": [
        "Exponentiation = 2**10 \r\n",
        "print(Exponentiation)\r\n"
      ],
      "execution_count": 15,
      "outputs": [
        {
          "output_type": "stream",
          "text": [
            "1024\n"
          ],
          "name": "stdout"
        }
      ]
    },
    {
      "cell_type": "code",
      "metadata": {
        "colab": {
          "base_uri": "https://localhost:8080/"
        },
        "id": "v5dlrxi0_Xyt",
        "outputId": "6563f810-14f6-4b2c-8254-225fb5c05dd4"
      },
      "source": [
        "x = 105\r\n",
        "y = 100\r\n",
        "x>y\r\n"
      ],
      "execution_count": 17,
      "outputs": [
        {
          "output_type": "execute_result",
          "data": {
            "text/plain": [
              "True"
            ]
          },
          "metadata": {
            "tags": []
          },
          "execution_count": 17
        }
      ]
    },
    {
      "cell_type": "code",
      "metadata": {
        "colab": {
          "base_uri": "https://localhost:8080/"
        },
        "id": "jIWZDGmr_aWt",
        "outputId": "05c0a5aa-290d-4a41-9f94-0d67dafcab55"
      },
      "source": [
        "x<y"
      ],
      "execution_count": 18,
      "outputs": [
        {
          "output_type": "execute_result",
          "data": {
            "text/plain": [
              "False"
            ]
          },
          "metadata": {
            "tags": []
          },
          "execution_count": 18
        }
      ]
    },
    {
      "cell_type": "code",
      "metadata": {
        "colab": {
          "base_uri": "https://localhost:8080/"
        },
        "id": "7nJd450J_muC",
        "outputId": "f3e98b30-804a-4c74-8689-5cd8512655b1"
      },
      "source": [
        "x==y"
      ],
      "execution_count": 19,
      "outputs": [
        {
          "output_type": "execute_result",
          "data": {
            "text/plain": [
              "False"
            ]
          },
          "metadata": {
            "tags": []
          },
          "execution_count": 19
        }
      ]
    },
    {
      "cell_type": "code",
      "metadata": {
        "colab": {
          "base_uri": "https://localhost:8080/"
        },
        "id": "Md1-9vSf_oGb",
        "outputId": "4b55518c-e224-4bc3-9090-dbe454547d6d"
      },
      "source": [
        "x!=y"
      ],
      "execution_count": 20,
      "outputs": [
        {
          "output_type": "execute_result",
          "data": {
            "text/plain": [
              "True"
            ]
          },
          "metadata": {
            "tags": []
          },
          "execution_count": 20
        }
      ]
    },
    {
      "cell_type": "code",
      "metadata": {
        "colab": {
          "base_uri": "https://localhost:8080/"
        },
        "id": "o3SS4yOc_sep",
        "outputId": "556d763d-6805-4f79-f93c-cbd587990fed"
      },
      "source": [
        "print('Welcome', 'to', 'Python!')"
      ],
      "execution_count": 21,
      "outputs": [
        {
          "output_type": "stream",
          "text": [
            "Welcome to Python!\n"
          ],
          "name": "stdout"
        }
      ]
    },
    {
      "cell_type": "code",
      "metadata": {
        "colab": {
          "base_uri": "https://localhost:8080/"
        },
        "id": "j3EDqm0tAJXP",
        "outputId": "17d76de0-bc9b-4f60-e5be-8063a36754f9"
      },
      "source": [
        "print('Welcome\\nto\\n\\nPython!')"
      ],
      "execution_count": 22,
      "outputs": [
        {
          "output_type": "stream",
          "text": [
            "Welcome\n",
            "to\n",
            "\n",
            "Python!\n"
          ],
          "name": "stdout"
        }
      ]
    },
    {
      "cell_type": "code",
      "metadata": {
        "colab": {
          "base_uri": "https://localhost:8080/"
        },
        "id": "C0RSRfyVAPfb",
        "outputId": "82e5bd49-9677-4019-aebc-c4836c519d6e"
      },
      "source": [
        "print('int(5.2)', 'truncates 5.2 to', int(5.2))"
      ],
      "execution_count": 23,
      "outputs": [
        {
          "output_type": "stream",
          "text": [
            "int(5.2) truncates 5.2 to 5\n"
          ],
          "name": "stdout"
        }
      ]
    },
    {
      "cell_type": "code",
      "metadata": {
        "colab": {
          "base_uri": "https://localhost:8080/"
        },
        "id": "PIkaqnXwAabe",
        "outputId": "3dd48764-3aec-44e8-ac5d-93397e17c5a3"
      },
      "source": [
        "print('Display \"hi\" in quotes')"
      ],
      "execution_count": 24,
      "outputs": [
        {
          "output_type": "stream",
          "text": [
            "Display \"hi\" in quotes\n"
          ],
          "name": "stdout"
        }
      ]
    },
    {
      "cell_type": "code",
      "metadata": {
        "colab": {
          "base_uri": "https://localhost:8080/"
        },
        "id": "gvEh8ZWAAecf",
        "outputId": "8be9c337-a89c-49b4-fd76-202419df3394"
      },
      "source": [
        "print('Display \\'hi\\' in quotes')\r\n"
      ],
      "execution_count": 25,
      "outputs": [
        {
          "output_type": "stream",
          "text": [
            "Display 'hi' in quotes\n"
          ],
          "name": "stdout"
        }
      ]
    },
    {
      "cell_type": "code",
      "metadata": {
        "colab": {
          "base_uri": "https://localhost:8080/"
        },
        "id": "1VFLXKZTAmXf",
        "outputId": "60216d1d-d694-4eb2-e888-f25e7fb21dd6"
      },
      "source": [
        "print(\"\"\"This is a lengthy multiline string containing a few lines \\\r\n",
        "of text\"\"\")\r\n"
      ],
      "execution_count": 26,
      "outputs": [
        {
          "output_type": "stream",
          "text": [
            "This is a lengthy multiline string containing a few lines of text\n"
          ],
          "name": "stdout"
        }
      ]
    },
    {
      "cell_type": "code",
      "metadata": {
        "colab": {
          "base_uri": "https://localhost:8080/"
        },
        "id": "p4RrT3wlArtt",
        "outputId": "d53cb7c1-08b7-4ade-9339-aa22f38dfbaa"
      },
      "source": [
        "grade =85\r\n",
        "if grade>=60: \r\n",
        " print(\"passed\")\r\n",
        "else:\r\n",
        " print(\"fail\")\r\n"
      ],
      "execution_count": 30,
      "outputs": [
        {
          "output_type": "stream",
          "text": [
            "passed\n"
          ],
          "name": "stdout"
        }
      ]
    }
  ]
}